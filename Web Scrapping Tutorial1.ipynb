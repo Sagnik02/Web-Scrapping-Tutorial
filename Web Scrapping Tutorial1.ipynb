{
 "cells": [
  {
   "cell_type": "code",
   "execution_count": 27,
   "id": "ae6e56f7",
   "metadata": {},
   "outputs": [],
   "source": [
    "from bs4 import BeautifulSoup # this module helps in web scrapping.\n",
    "import requests"
   ]
  },
  {
   "cell_type": "code",
   "execution_count": 28,
   "id": "ceda3322",
   "metadata": {},
   "outputs": [
    {
     "data": {
      "text/html": [
       "<!DOCTYPE html>\n",
       "<html>\n",
       "<head>\n",
       "<title>Web Scrapping</title>\n",
       "</head>\n",
       "<body>\n",
       "<h3><b id='boldest'>Debayan Haldar</b></h3>\n",
       "<p>Salary: $1000 </p>\n",
       "<h3>Debarno Banerjee</h3>\n",
       "<p>Salary: $8000 </p>\n",
       "<h3>Riddhiman </h3>\n",
       "<p>Salary: $6000</p>\n",
       "</body>\n",
       "</html>\n"
      ],
      "text/plain": [
       "<IPython.core.display.HTML object>"
      ]
     },
     "metadata": {},
     "output_type": "display_data"
    }
   ],
   "source": [
    "%%html\n",
    "<!DOCTYPE html>\n",
    "<html>\n",
    "<head>\n",
    "<title>Web Scrapping</title>\n",
    "</head>\n",
    "<body>\n",
    "<h3><b id='boldest'>Debayan Haldar</b></h3>\n",
    "<p>Salary: $1000 </p>\n",
    "<h3>Debarno Banerjee</h3>\n",
    "<p>Salary: $8000 </p>\n",
    "<h3>Riddhiman </h3>\n",
    "<p>Salary: $6000</p>\n",
    "</body>\n",
    "</html>"
   ]
  },
  {
   "cell_type": "code",
   "execution_count": 29,
   "id": "12be921e",
   "metadata": {},
   "outputs": [],
   "source": [
    "html=\"<!DOCTYPE html><html><head><title>Web Scrapping</title></head><body><h3><b id='boldest'>Debayan Haldar</b></h3><p>Salary: $1000 </p><h3>Debarno Banerjee</h3><p>Salary: $8000 </p><h3>Riddhiman </h3><p>Salary: $6000</p></body></html>\""
   ]
  },
  {
   "cell_type": "code",
   "execution_count": 30,
   "id": "e60a0a3d",
   "metadata": {},
   "outputs": [],
   "source": [
    "soup = BeautifulSoup(html, \"html.parser\")\n"
   ]
  },
  {
   "cell_type": "code",
   "execution_count": 31,
   "id": "0de6878c",
   "metadata": {},
   "outputs": [
    {
     "name": "stdout",
     "output_type": "stream",
     "text": [
      "<!DOCTYPE html>\n",
      "<html>\n",
      " <head>\n",
      "  <title>\n",
      "   Web Scrapping\n",
      "  </title>\n",
      " </head>\n",
      " <body>\n",
      "  <h3>\n",
      "   <b id=\"boldest\">\n",
      "    Debayan Haldar\n",
      "   </b>\n",
      "  </h3>\n",
      "  <p>\n",
      "   Salary: $1000\n",
      "  </p>\n",
      "  <h3>\n",
      "   Debarno Banerjee\n",
      "  </h3>\n",
      "  <p>\n",
      "   Salary: $8000\n",
      "  </p>\n",
      "  <h3>\n",
      "   Riddhiman\n",
      "  </h3>\n",
      "  <p>\n",
      "   Salary: $6000\n",
      "  </p>\n",
      " </body>\n",
      "</html>\n",
      "\n"
     ]
    }
   ],
   "source": [
    "print(soup.prettify())"
   ]
  },
  {
   "cell_type": "code",
   "execution_count": 32,
   "id": "8ac6e2f4",
   "metadata": {},
   "outputs": [
    {
     "name": "stdout",
     "output_type": "stream",
     "text": [
      "tag object: <title>Web Scrapping</title>\n"
     ]
    }
   ],
   "source": [
    "tag_object=soup.title\n",
    "print(\"tag object:\",tag_object)"
   ]
  },
  {
   "cell_type": "code",
   "execution_count": 33,
   "id": "793b4427",
   "metadata": {},
   "outputs": [
    {
     "data": {
      "text/plain": [
       "bs4.element.Tag"
      ]
     },
     "execution_count": 33,
     "metadata": {},
     "output_type": "execute_result"
    }
   ],
   "source": [
    "type(tag_object)"
   ]
  },
  {
   "cell_type": "code",
   "execution_count": 34,
   "id": "b872fefa",
   "metadata": {},
   "outputs": [
    {
     "data": {
      "text/plain": [
       "<h3><b id=\"boldest\">Debayan Haldar</b></h3>"
      ]
     },
     "execution_count": 34,
     "metadata": {},
     "output_type": "execute_result"
    }
   ],
   "source": [
    "tag_object=soup.h3\n",
    "tag_object"
   ]
  },
  {
   "cell_type": "code",
   "execution_count": 35,
   "id": "788b9f10",
   "metadata": {},
   "outputs": [
    {
     "data": {
      "text/plain": [
       "<b id=\"boldest\">Debayan Haldar</b>"
      ]
     },
     "execution_count": 35,
     "metadata": {},
     "output_type": "execute_result"
    }
   ],
   "source": [
    "tag_child =tag_object.b\n",
    "tag_child"
   ]
  },
  {
   "cell_type": "code",
   "execution_count": 36,
   "id": "c65ca5bd",
   "metadata": {},
   "outputs": [
    {
     "data": {
      "text/plain": [
       "<h3><b id=\"boldest\">Debayan Haldar</b></h3>"
      ]
     },
     "execution_count": 36,
     "metadata": {},
     "output_type": "execute_result"
    }
   ],
   "source": [
    "parent_tag=tag_child.parent\n",
    "parent_tag"
   ]
  },
  {
   "cell_type": "code",
   "execution_count": 37,
   "id": "4dd21a03",
   "metadata": {},
   "outputs": [
    {
     "data": {
      "text/plain": [
       "<h3><b id=\"boldest\">Debayan Haldar</b></h3>"
      ]
     },
     "execution_count": 37,
     "metadata": {},
     "output_type": "execute_result"
    }
   ],
   "source": [
    "tag_object"
   ]
  },
  {
   "cell_type": "code",
   "execution_count": 38,
   "id": "c2e3a847",
   "metadata": {},
   "outputs": [
    {
     "data": {
      "text/plain": [
       "<body><h3><b id=\"boldest\">Debayan Haldar</b></h3><p>Salary: $1000 </p><h3>Debarno Banerjee</h3><p>Salary: $8000 </p><h3>Riddhiman </h3><p>Salary: $6000</p></body>"
      ]
     },
     "execution_count": 38,
     "metadata": {},
     "output_type": "execute_result"
    }
   ],
   "source": [
    "tag_object.parent"
   ]
  },
  {
   "cell_type": "code",
   "execution_count": 39,
   "id": "d5bf2be1",
   "metadata": {},
   "outputs": [
    {
     "data": {
      "text/plain": [
       "<p>Salary: $1000 </p>"
      ]
     },
     "execution_count": 39,
     "metadata": {},
     "output_type": "execute_result"
    }
   ],
   "source": [
    "sibling_1=tag_object.next_sibling\n",
    "sibling_1"
   ]
  },
  {
   "cell_type": "code",
   "execution_count": 40,
   "id": "68167ad7",
   "metadata": {},
   "outputs": [
    {
     "data": {
      "text/plain": [
       "<h3>Debarno Banerjee</h3>"
      ]
     },
     "execution_count": 40,
     "metadata": {},
     "output_type": "execute_result"
    }
   ],
   "source": [
    "sibling_2=sibling_1.next_sibling\n",
    "sibling_2"
   ]
  },
  {
   "cell_type": "code",
   "execution_count": 41,
   "id": "f0df97b6",
   "metadata": {},
   "outputs": [
    {
     "data": {
      "text/plain": [
       "<b id=\"boldest\">Debayan Haldar</b>"
      ]
     },
     "execution_count": 41,
     "metadata": {},
     "output_type": "execute_result"
    }
   ],
   "source": [
    "tag_child"
   ]
  },
  {
   "cell_type": "code",
   "execution_count": 42,
   "id": "ee9c83bd",
   "metadata": {},
   "outputs": [
    {
     "data": {
      "text/plain": [
       "'boldest'"
      ]
     },
     "execution_count": 42,
     "metadata": {},
     "output_type": "execute_result"
    }
   ],
   "source": [
    "tag_child['id']"
   ]
  },
  {
   "cell_type": "code",
   "execution_count": 43,
   "id": "432c6cb1",
   "metadata": {},
   "outputs": [
    {
     "data": {
      "text/plain": [
       "{'id': 'boldest'}"
      ]
     },
     "execution_count": 43,
     "metadata": {},
     "output_type": "execute_result"
    }
   ],
   "source": [
    "tag_child.attrs"
   ]
  },
  {
   "cell_type": "code",
   "execution_count": 44,
   "id": "489884e5",
   "metadata": {},
   "outputs": [
    {
     "data": {
      "text/plain": [
       "'boldest'"
      ]
     },
     "execution_count": 44,
     "metadata": {},
     "output_type": "execute_result"
    }
   ],
   "source": [
    "tag_child.get('id')"
   ]
  },
  {
   "cell_type": "code",
   "execution_count": 45,
   "id": "b29d3a78",
   "metadata": {},
   "outputs": [
    {
     "data": {
      "text/plain": [
       "<b id=\"boldest\">Debayan Haldar</b>"
      ]
     },
     "execution_count": 45,
     "metadata": {},
     "output_type": "execute_result"
    }
   ],
   "source": [
    "tag_child\n"
   ]
  },
  {
   "cell_type": "code",
   "execution_count": 46,
   "id": "2f9b35dc",
   "metadata": {},
   "outputs": [
    {
     "data": {
      "text/plain": [
       "'Debayan Haldar'"
      ]
     },
     "execution_count": 46,
     "metadata": {},
     "output_type": "execute_result"
    }
   ],
   "source": [
    "tag_string=tag_child.string\n",
    "tag_string"
   ]
  },
  {
   "cell_type": "code",
   "execution_count": 47,
   "id": "a8f36cac",
   "metadata": {},
   "outputs": [
    {
     "data": {
      "text/plain": [
       "<h3><b id=\"boldest\">Debayan Haldar</b></h3>"
      ]
     },
     "execution_count": 47,
     "metadata": {},
     "output_type": "execute_result"
    }
   ],
   "source": [
    "tag_object"
   ]
  },
  {
   "cell_type": "code",
   "execution_count": 48,
   "id": "34a5737b",
   "metadata": {},
   "outputs": [
    {
     "data": {
      "text/plain": [
       "'Debayan Haldar'"
      ]
     },
     "execution_count": 48,
     "metadata": {},
     "output_type": "execute_result"
    }
   ],
   "source": [
    "tag_str=tag_object.string\n",
    "tag_str"
   ]
  },
  {
   "cell_type": "code",
   "execution_count": 49,
   "id": "91b33bac",
   "metadata": {},
   "outputs": [
    {
     "data": {
      "text/plain": [
       "<h3><b id=\"boldest\">Debayan Haldar</b></h3>"
      ]
     },
     "execution_count": 49,
     "metadata": {},
     "output_type": "execute_result"
    }
   ],
   "source": [
    "tag_object"
   ]
  },
  {
   "cell_type": "code",
   "execution_count": 51,
   "id": "c088cdc2",
   "metadata": {},
   "outputs": [
    {
     "data": {
      "text/plain": [
       "bs4.element.NavigableString"
      ]
     },
     "execution_count": 51,
     "metadata": {},
     "output_type": "execute_result"
    }
   ],
   "source": [
    "type(tag_str)"
   ]
  },
  {
   "cell_type": "code",
   "execution_count": null,
   "id": "d98beea8",
   "metadata": {},
   "outputs": [],
   "source": []
  }
 ],
 "metadata": {
  "kernelspec": {
   "display_name": "Python 3 (ipykernel)",
   "language": "python",
   "name": "python3"
  },
  "language_info": {
   "codemirror_mode": {
    "name": "ipython",
    "version": 3
   },
   "file_extension": ".py",
   "mimetype": "text/x-python",
   "name": "python",
   "nbconvert_exporter": "python",
   "pygments_lexer": "ipython3",
   "version": "3.11.0"
  }
 },
 "nbformat": 4,
 "nbformat_minor": 5
}
